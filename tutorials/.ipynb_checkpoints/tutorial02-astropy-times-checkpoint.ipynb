{
 "cells": [
  {
   "cell_type": "markdown",
   "metadata": {},
   "source": [
    "Department of Physics, University of Pisa (AA 2022-2023)\n",
    "\n",
    "### Multimessenger Physics Laboratory tutorial series\n",
    "\n",
    "\n",
    "\n",
    "## Tutorial 02 - Managing times with Astropy\n",
    "#### (M. Razzano, Feb 21, 2023)\n",
    "\n",
    "In this tutorial we will learn how to use the Astropy library to manipulate time formats used in most of the astrophysical and multimessenger applications.\n",
    "\n",
    "More information can be found on the [Official Page of the Astropy project](http://www.astropy.org)"
   ]
  },
  {
   "cell_type": "code",
   "execution_count": 1,
   "metadata": {},
   "outputs": [
    {
     "ename": "ModuleNotFoundError",
     "evalue": "No module named 'astropy'",
     "output_type": "error",
     "traceback": [
      "\u001b[0;31m---------------------------------------------------------------------------\u001b[0m",
      "\u001b[0;31mModuleNotFoundError\u001b[0m                       Traceback (most recent call last)",
      "Cell \u001b[0;32mIn [1], line 3\u001b[0m\n\u001b[1;32m      1\u001b[0m \u001b[38;5;66;03m#Basic imports\u001b[39;00m\n\u001b[1;32m      2\u001b[0m \u001b[38;5;28;01mimport\u001b[39;00m \u001b[38;5;21;01mnumpy\u001b[39;00m \u001b[38;5;28;01mas\u001b[39;00m \u001b[38;5;21;01mnp\u001b[39;00m\n\u001b[0;32m----> 3\u001b[0m \u001b[38;5;28;01mfrom\u001b[39;00m \u001b[38;5;21;01mastropy\u001b[39;00m\u001b[38;5;21;01m.\u001b[39;00m\u001b[38;5;21;01mtime\u001b[39;00m \u001b[38;5;28;01mimport\u001b[39;00m Time\n",
      "\u001b[0;31mModuleNotFoundError\u001b[0m: No module named 'astropy'"
     ]
    }
   ],
   "source": [
    "#Basic imports\n",
    "import numpy as np\n",
    "from astropy.time import Time"
   ]
  },
  {
   "cell_type": "code",
   "execution_count": 2,
   "metadata": {},
   "outputs": [
    {
     "data": {
      "text/plain": [
       "('tai', 'tcb', 'tcg', 'tdb', 'tt', 'ut1', 'utc', 'local')"
      ]
     },
     "execution_count": 2,
     "metadata": {},
     "output_type": "execute_result"
    }
   ],
   "source": [
    "# Available scales?\n",
    "Time.SCALES"
   ]
  },
  {
   "cell_type": "code",
   "execution_count": 3,
   "metadata": {},
   "outputs": [
    {
     "data": {
      "text/plain": [
       "OrderedDict([('jd', astropy.time.formats.TimeJD),\n",
       "             ('mjd', astropy.time.formats.TimeMJD),\n",
       "             ('decimalyear', astropy.time.formats.TimeDecimalYear),\n",
       "             ('unix', astropy.time.formats.TimeUnix),\n",
       "             ('cxcsec', astropy.time.formats.TimeCxcSec),\n",
       "             ('gps', astropy.time.formats.TimeGPS),\n",
       "             ('plot_date', astropy.time.formats.TimePlotDate),\n",
       "             ('stardate', astropy.time.formats.TimeStardate),\n",
       "             ('datetime', astropy.time.formats.TimeDatetime),\n",
       "             ('ymdhms', astropy.time.formats.TimeYMDHMS),\n",
       "             ('iso', astropy.time.formats.TimeISO),\n",
       "             ('isot', astropy.time.formats.TimeISOT),\n",
       "             ('yday', astropy.time.formats.TimeYearDayTime),\n",
       "             ('datetime64', astropy.time.formats.TimeDatetime64),\n",
       "             ('fits', astropy.time.formats.TimeFITS),\n",
       "             ('byear', astropy.time.formats.TimeBesselianEpoch),\n",
       "             ('jyear', astropy.time.formats.TimeJulianEpoch),\n",
       "             ('byear_str', astropy.time.formats.TimeBesselianEpochString),\n",
       "             ('jyear_str', astropy.time.formats.TimeJulianEpochString)])"
      ]
     },
     "execution_count": 3,
     "metadata": {},
     "output_type": "execute_result"
    }
   ],
   "source": [
    "#Available formats? \n",
    "Time.FORMATS"
   ]
  },
  {
   "cell_type": "code",
   "execution_count": 3,
   "metadata": {},
   "outputs": [
    {
     "data": {
      "text/plain": [
       "<Time object: scale='utc' format='isot' value=2021-02-01T23:12:34.000>"
      ]
     },
     "execution_count": 3,
     "metadata": {},
     "output_type": "execute_result"
    }
   ],
   "source": [
    "#Define a time in UTC date iso format\n",
    "t_utc = Time(\"2021-02-01T23:12:34\", format='isot', scale='utc')\n",
    "t_utc"
   ]
  },
  {
   "cell_type": "code",
   "execution_count": 4,
   "metadata": {},
   "outputs": [
    {
     "name": "stdout",
     "output_type": "stream",
     "text": [
      "2021-02-01T23:12:34.000\n"
     ]
    }
   ],
   "source": [
    "#Print the value\n",
    "print(t_utc)"
   ]
  },
  {
   "cell_type": "code",
   "execution_count": 5,
   "metadata": {},
   "outputs": [
    {
     "name": "stdout",
     "output_type": "stream",
     "text": [
      "utc\n",
      "2021-02-01T23:12:34.000\n",
      "isot\n"
     ]
    }
   ],
   "source": [
    "#Access scale or value\n",
    "print(t_utc.scale)\n",
    "print(t_utc.value)\n",
    "print(t_utc.format)"
   ]
  },
  {
   "cell_type": "code",
   "execution_count": 6,
   "metadata": {},
   "outputs": [
    {
     "name": "stdout",
     "output_type": "stream",
     "text": [
      "ISO is 2021-02-01 23:12:34.000 \n",
      "JD is 2459247.467060 \n",
      "MJD is 59246.967060 \n",
      "UNIX is 1612221154.000000 \n",
      "GPS is 1296256372.000000 \n"
     ]
    }
   ],
   "source": [
    "#Print different formats\n",
    "print(\"ISO is %s \" % t_utc.iso)\n",
    "\n",
    "print(\"JD is %f \" % t_utc.jd)\n",
    "print(\"MJD is %f \" % t_utc.mjd)\n",
    "print(\"UNIX is %f \" % t_utc.unix)\n",
    "print(\"GPS is %f \" % t_utc.gps)"
   ]
  },
  {
   "cell_type": "code",
   "execution_count": 7,
   "metadata": {},
   "outputs": [
    {
     "data": {
      "text/plain": [
       "<Time object: scale='tai' format='isot' value=2021-02-01T23:13:11.000>"
      ]
     },
     "execution_count": 7,
     "metadata": {},
     "output_type": "execute_result"
    }
   ],
   "source": [
    "#Change scale to TAI\n",
    "t_tai = t_utc.tai\n",
    "t_tai"
   ]
  },
  {
   "cell_type": "code",
   "execution_count": 8,
   "metadata": {},
   "outputs": [
    {
     "data": {
      "text/plain": [
       "<Time object: scale='tdb' format='isot' value=2021-02-01T23:13:43.185>"
      ]
     },
     "execution_count": 8,
     "metadata": {},
     "output_type": "execute_result"
    }
   ],
   "source": [
    "#Change scale to TDB\n",
    "t_tdb = t_utc.tdb\n",
    "t_tdb"
   ]
  },
  {
   "cell_type": "code",
   "execution_count": 9,
   "metadata": {},
   "outputs": [
    {
     "data": {
      "text/plain": [
       "<Time object: scale='ut1' format='isot' value=2021-02-01T23:12:33.832>"
      ]
     },
     "execution_count": 9,
     "metadata": {},
     "output_type": "execute_result"
    }
   ],
   "source": [
    "#change to ut1\n",
    "t_ut1 = t_utc.ut1\n",
    "t_ut1"
   ]
  },
  {
   "cell_type": "code",
   "execution_count": 10,
   "metadata": {},
   "outputs": [
    {
     "data": {
      "text/plain": [
       "<Time object: scale='utc' format='isot' value=2019-01-01T23:12:34.000>"
      ]
     },
     "execution_count": 10,
     "metadata": {},
     "output_type": "execute_result"
    }
   ],
   "source": [
    "#How many days between 2 dates?\n",
    "t1=Time(\"2019-01-01T23:12:34\")\n",
    "t2=Time(\"2018-05-01T23:12:34\")\n",
    "t1\n"
   ]
  },
  {
   "cell_type": "code",
   "execution_count": 11,
   "metadata": {},
   "outputs": [
    {
     "data": {
      "text/plain": [
       "<TimeDelta object: scale='tai' format='jd' value=245.0>"
      ]
     },
     "execution_count": 11,
     "metadata": {},
     "output_type": "execute_result"
    }
   ],
   "source": [
    "# delta scale is TAI.\n",
    "dt =t1-t2\n",
    "dt"
   ]
  },
  {
   "cell_type": "code",
   "execution_count": 12,
   "metadata": {},
   "outputs": [
    {
     "data": {
      "text/plain": [
       "21168000.0"
      ]
     },
     "execution_count": 12,
     "metadata": {},
     "output_type": "execute_result"
    }
   ],
   "source": [
    "#in seconds..\n",
    "dt.sec"
   ]
  },
  {
   "cell_type": "code",
   "execution_count": null,
   "metadata": {},
   "outputs": [],
   "source": []
  }
 ],
 "metadata": {
  "kernelspec": {
   "display_name": "Python 3 (ipykernel)",
   "language": "python",
   "name": "python3"
  },
  "language_info": {
   "codemirror_mode": {
    "name": "ipython",
    "version": 3
   },
   "file_extension": ".py",
   "mimetype": "text/x-python",
   "name": "python",
   "nbconvert_exporter": "python",
   "pygments_lexer": "ipython3",
   "version": "3.10.8"
  }
 },
 "nbformat": 4,
 "nbformat_minor": 4
}
