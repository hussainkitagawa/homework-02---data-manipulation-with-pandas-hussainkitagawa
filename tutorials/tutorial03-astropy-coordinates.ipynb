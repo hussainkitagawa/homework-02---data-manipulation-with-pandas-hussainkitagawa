{
 "cells": [
  {
   "cell_type": "markdown",
   "metadata": {},
   "source": [
    "Department of Physics, University of Pisa (AA 2022-2023)\n",
    "\n",
    "### Multimessenger Physics Laboratory tutorial series\n",
    "\n",
    "\n",
    "\n",
    "## Tutorial 03 - Managing Coordinates With Astropy\n",
    "#### (M. Razzano, Feb 21, 2023)\n",
    "\n",
    "In this tutorial we will learn how to use the Astropy library to manipulate coordinates and coordinate conversion used in most of the astrophysical and multimessenger applications.\n",
    "\n",
    "More information can be found on the [Official Page of the Astropy project](http://www.astropy.org)"
   ]
  },
  {
   "cell_type": "code",
   "execution_count": 1,
   "metadata": {},
   "outputs": [],
   "source": [
    "import numpy as np\n",
    "from astropy import units as u\n",
    "from astropy.coordinates import SkyCoord"
   ]
  },
  {
   "cell_type": "code",
   "execution_count": 2,
   "metadata": {},
   "outputs": [
    {
     "data": {
      "text/plain": [
       "<SkyCoord (ICRS): (ra, dec) in deg\n",
       "    (11.375, 11.23333333)>"
      ]
     },
     "execution_count": 2,
     "metadata": {},
     "output_type": "execute_result"
    }
   ],
   "source": [
    "#Define a position in the sky using SkyCoord object\n",
    "#Equatorial coordinates are in the \"icrs\" frame\n",
    "c = SkyCoord(ra=20.62*u.degree, dec=41.2*u.degree, frame='icrs')\n",
    "\n",
    "#You can also define it using a string\n",
    "c = SkyCoord('02h41m30s', '+34d12m00s', frame='icrs')\n",
    "\n",
    "c = SkyCoord('00:45.5 +11:14', unit=(u.hourangle, u.deg))\n",
    "\n",
    "c"
   ]
  },
  {
   "cell_type": "code",
   "execution_count": 3,
   "metadata": {},
   "outputs": [
    {
     "data": {
      "text/plain": [
       "<SkyCoord (ICRS): (ra, dec) in deg\n",
       "    (83.82208333, -5.39111111)>"
      ]
     },
     "execution_count": 3,
     "metadata": {},
     "output_type": "execute_result"
    }
   ],
   "source": [
    "#or putting a name, here the Great Nebula of Orion\n",
    "m31 = SkyCoord.from_name('M42')\n",
    "m31"
   ]
  },
  {
   "cell_type": "code",
   "execution_count": 4,
   "metadata": {},
   "outputs": [
    {
     "data": {
      "text/latex": [
       "$40^\\circ22{}^\\prime30{}^{\\prime\\prime}$"
      ],
      "text/plain": [
       "<Longitude 40.375 deg>"
      ]
     },
     "execution_count": 4,
     "metadata": {},
     "output_type": "execute_result"
    }
   ],
   "source": [
    "#Access coordinates\n",
    "c = SkyCoord('02h41m30s', '+34d12m00s', frame='icrs')\n",
    "\n",
    "c.ra"
   ]
  },
  {
   "cell_type": "code",
   "execution_count": 5,
   "metadata": {},
   "outputs": [
    {
     "data": {
      "text/plain": [
       "40.375"
      ]
     },
     "execution_count": 5,
     "metadata": {},
     "output_type": "execute_result"
    }
   ],
   "source": [
    "c.ra.deg"
   ]
  },
  {
   "cell_type": "code",
   "execution_count": 6,
   "metadata": {},
   "outputs": [
    {
     "data": {
      "text/plain": [
       "2.6916666666666673"
      ]
     },
     "execution_count": 6,
     "metadata": {},
     "output_type": "execute_result"
    }
   ],
   "source": [
    "c.ra.hour"
   ]
  },
  {
   "cell_type": "code",
   "execution_count": 8,
   "metadata": {},
   "outputs": [
    {
     "data": {
      "text/plain": [
       "hms_tuple(h=2.0, m=41.0, s=30.000000000002558)"
      ]
     },
     "execution_count": 8,
     "metadata": {},
     "output_type": "execute_result"
    }
   ],
   "source": [
    "#angle value in hours\n",
    "c.ra.hms"
   ]
  },
  {
   "cell_type": "code",
   "execution_count": 9,
   "metadata": {},
   "outputs": [
    {
     "data": {
      "text/plain": [
       "34.2"
      ]
     },
     "execution_count": 9,
     "metadata": {},
     "output_type": "execute_result"
    }
   ],
   "source": [
    "#angle value in degrees\n",
    "c.dec.deg"
   ]
  },
  {
   "cell_type": "code",
   "execution_count": 9,
   "metadata": {},
   "outputs": [
    {
     "data": {
      "text/plain": [
       "'40d22m30s 34d12m00s'"
      ]
     },
     "execution_count": 9,
     "metadata": {},
     "output_type": "execute_result"
    }
   ],
   "source": [
    "#angles in degrees\n",
    "c.to_string(\"dms\")"
   ]
  },
  {
   "cell_type": "code",
   "execution_count": 10,
   "metadata": {},
   "outputs": [
    {
     "data": {
      "text/plain": [
       "'02h41m30s +34d12m00s'"
      ]
     },
     "execution_count": 10,
     "metadata": {},
     "output_type": "execute_result"
    }
   ],
   "source": [
    "#angles in hours and degrees\n",
    "c.to_string(\"hmsdms\")"
   ]
  },
  {
   "cell_type": "code",
   "execution_count": 10,
   "metadata": {},
   "outputs": [
    {
     "data": {
      "text/plain": [
       "<SkyCoord (ICRS): (ra, dec) in deg\n",
       "    (41.125, 1.2)>"
      ]
     },
     "execution_count": 10,
     "metadata": {},
     "output_type": "execute_result"
    }
   ],
   "source": [
    "#Convert to Galactic and viceversa\n",
    "c_icrs = SkyCoord('02h44m30s', '+1d12m00s', frame='icrs')\n",
    "c_icrs"
   ]
  },
  {
   "cell_type": "code",
   "execution_count": 12,
   "metadata": {},
   "outputs": [
    {
     "data": {
      "text/plain": [
       "<SkyCoord (Galactic): (l, b) in deg\n",
       "    (171.3446949, -50.72774032)>"
      ]
     },
     "execution_count": 12,
     "metadata": {},
     "output_type": "execute_result"
    }
   ],
   "source": [
    "#Same as before..\n",
    "c_gal = c_icrs.galactic\n",
    "c_gal"
   ]
  },
  {
   "cell_type": "code",
   "execution_count": 13,
   "metadata": {},
   "outputs": [
    {
     "data": {
      "text/plain": [
       "171.34469489586485"
      ]
     },
     "execution_count": 13,
     "metadata": {},
     "output_type": "execute_result"
    }
   ],
   "source": [
    "c_gal.l.deg"
   ]
  },
  {
   "cell_type": "code",
   "execution_count": 14,
   "metadata": {},
   "outputs": [
    {
     "data": {
      "text/latex": [
       "$-50^\\circ43{}^\\prime39.8652{}^{\\prime\\prime}$"
      ],
      "text/plain": [
       "<Latitude -50.72774032 deg>"
      ]
     },
     "execution_count": 14,
     "metadata": {},
     "output_type": "execute_result"
    }
   ],
   "source": [
    "c_gal.b"
   ]
  },
  {
   "cell_type": "code",
   "execution_count": 15,
   "metadata": {},
   "outputs": [
    {
     "data": {
      "text/latex": [
       "$32^\\circ01{}^\\prime59.3355{}^{\\prime\\prime}$"
      ],
      "text/plain": [
       "<Angle 32.03314875 deg>"
      ]
     },
     "execution_count": 15,
     "metadata": {},
     "output_type": "execute_result"
    }
   ],
   "source": [
    "#Angle separation\n",
    "c1_icrs = SkyCoord('02h44m30s', '+1d12m00s', frame='icrs')\n",
    "c2_icrs = SkyCoord('04h44m30s', '+13d12m00s', frame='icrs')\n",
    "\n",
    "sep = c1_icrs.separation(c2_icrs)\n",
    "sep"
   ]
  },
  {
   "cell_type": "code",
   "execution_count": 16,
   "metadata": {},
   "outputs": [
    {
     "data": {
      "text/plain": [
       "32.03314875414764"
      ]
     },
     "execution_count": 16,
     "metadata": {},
     "output_type": "execute_result"
    }
   ],
   "source": [
    "sep.deg"
   ]
  },
  {
   "cell_type": "code",
   "execution_count": 17,
   "metadata": {},
   "outputs": [
    {
     "data": {
      "text/latex": [
       "$(-2410346.8, -4758666.8, 3487943) \\; \\mathrm{m}$"
      ],
      "text/plain": [
       "<EarthLocation (-2410346.78217658, -4758666.82504051, 3487942.97502457) m>"
      ]
     },
     "execution_count": 17,
     "metadata": {},
     "output_type": "execute_result"
    }
   ],
   "source": [
    "#Get Alt-Az coordinates\n",
    "#First, we should specify the location\n",
    "from astropy.coordinates import EarthLocation\n",
    "\n",
    "#via the astropy DB\n",
    "loc_palomar = EarthLocation.of_site('Palomar')\n",
    "loc_palomar"
   ]
  },
  {
   "cell_type": "code",
   "execution_count": 18,
   "metadata": {},
   "outputs": [
    {
     "data": {
      "text/latex": [
       "$(4548679.6, 802054.94, 4384322.9) \\; \\mathrm{m}$"
      ],
      "text/plain": [
       "<EarthLocation (4548679.62378861, 802054.94427276, 4384322.94192724) m>"
      ]
     },
     "execution_count": 18,
     "metadata": {},
     "output_type": "execute_result"
    }
   ],
   "source": [
    "#or via the coordiantes\n",
    "my_loc = EarthLocation(lat=43.7*u.deg, lon=10*u.deg, height=390*u.m)\n",
    "my_loc"
   ]
  },
  {
   "cell_type": "code",
   "execution_count": 19,
   "metadata": {},
   "outputs": [
    {
     "data": {
      "text/plain": [
       "<SkyCoord (AltAz: obstime=2019-02-12 23:00:00.000, location=(4548679.62378861, 802054.94427276, 4384322.94192724) m, pressure=0.0 hPa, temperature=0.0 deg_C, relative_humidity=0.0, obswl=1.0 micron): (az, alt) in deg\n",
       "    (322.66202638, 7.58318521)>"
      ]
     },
     "execution_count": 19,
     "metadata": {},
     "output_type": "execute_result"
    }
   ],
   "source": [
    "#Set the time\n",
    "from astropy.time import Time\n",
    "from astropy.coordinates import SkyCoord, EarthLocation, AltAz\n",
    "\n",
    "time = Time('2019-2-12 23:00:00') \n",
    "m31 = SkyCoord.from_name('M31')\n",
    "m31altaz = m31.transform_to(AltAz(obstime=time,location=my_loc))\n",
    "\n",
    "m31altaz"
   ]
  },
  {
   "cell_type": "code",
   "execution_count": 20,
   "metadata": {},
   "outputs": [
    {
     "data": {
      "text/latex": [
       "$7^\\circ34{}^\\prime59.4667{}^{\\prime\\prime}$"
      ],
      "text/plain": [
       "<Latitude 7.58318521 deg>"
      ]
     },
     "execution_count": 20,
     "metadata": {},
     "output_type": "execute_result"
    }
   ],
   "source": [
    "m31altaz.alt"
   ]
  },
  {
   "cell_type": "code",
   "execution_count": 21,
   "metadata": {},
   "outputs": [
    {
     "data": {
      "text/plain": [
       "322.6620263794815"
      ]
     },
     "execution_count": 21,
     "metadata": {},
     "output_type": "execute_result"
    }
   ],
   "source": [
    "m31altaz.az.deg"
   ]
  }
 ],
 "metadata": {
  "kernelspec": {
   "display_name": "Python 3 (ipykernel)",
   "language": "python",
   "name": "python3"
  },
  "language_info": {
   "codemirror_mode": {
    "name": "ipython",
    "version": 3
   },
   "file_extension": ".py",
   "mimetype": "text/x-python",
   "name": "python",
   "nbconvert_exporter": "python",
   "pygments_lexer": "ipython3",
   "version": "3.10.8"
  }
 },
 "nbformat": 4,
 "nbformat_minor": 4
}
