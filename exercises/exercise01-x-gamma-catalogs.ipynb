{
 "cells": [
  {
   "cell_type": "markdown",
   "metadata": {},
   "source": [
    "Department of Physics, University of Pisa (AA 2022-2023)\n",
    "\n",
    "### Multimessenger Physics Laboratory tutorial series\n",
    "\n",
    "\n",
    "\n",
    "## Exercise 01 - Correlating source catalogs\n",
    "#### (M. Razzano, Feb 21, 2023)\n",
    "\n",
    "In this exercise you will have to read and manipulate source catalogs using Pandas and find correlations among sources of different classes. \n",
    "\n",
    "We will use two catalogs of sources\n",
    "\n",
    "* **The Fourth Catalog of Fermi Sources (4FGL)**, a catalog of gamma-ray point sources collected during 8 years of observations of the Large Area Telescope onboard the Fermi mission. The reference for 4FGL is [S. Abdollahi et al 2020 ApJS 247 33](https://iopscience.iop.org/article/10.3847/1538-4365/ab6bcb)\n",
    "* **The ROSAT all-sky survey bright source catalogue (1RX)**, a catalog of X-ray point sources collected by the Roentgen satellite. The reference for 1RX is [Voges et al. 1990, A&A, 349,389](http://adsabs.harvard.edu/full/1999A%26A...349..389V)\n",
    "\n",
    "**Please note** The references here are for completeness, you do not need to read the full (and long) papers to perform the exercises. However, if you want to do it, you are certainly welcome!"
   ]
  },
  {
   "cell_type": "markdown",
   "metadata": {},
   "source": [
    "### Basic Setup\n",
    "As usual, in the cell below you should import the modules that you think you will require..."
   ]
  },
  {
   "cell_type": "code",
   "execution_count": null,
   "metadata": {},
   "outputs": [],
   "source": [
    "#import..."
   ]
  },
  {
   "cell_type": "code",
   "execution_count": null,
   "metadata": {},
   "outputs": [],
   "source": [
    "#also, you might want to define the directories you will use in this exercise"
   ]
  },
  {
   "cell_type": "markdown",
   "metadata": {},
   "source": [
    "### Open and explore the 4FGL catalog\n",
    "\n",
    "You can find the 4FGL catalog in the FITS file *fermi_lat_4fgl_gll_psc_v22.fits* in the data directory.\n",
    "\n",
    "Open it using astropy and have a look at it (what are the columns, etc) and finally convert to a Pandas dataframe, and do some basic data exploration and plotting"
   ]
  },
  {
   "cell_type": "code",
   "execution_count": 1,
   "metadata": {},
   "outputs": [],
   "source": [
    "#open the file using astropy"
   ]
  },
  {
   "cell_type": "code",
   "execution_count": 8,
   "metadata": {},
   "outputs": [],
   "source": [
    "# How many columns you can see? Remove every column except from the name, coordinates, and the Conf 95 SemiMajor \n",
    "# (the uncertainty in position), and source class (CLASS1). \n",
    "# Make sure that the CLASS1 is well formatted, i.e. uppercase and with no blank spaces"
   ]
  },
  {
   "cell_type": "code",
   "execution_count": null,
   "metadata": {},
   "outputs": [],
   "source": [
    "#now, convert to a Pandas Dataframe"
   ]
  },
  {
   "cell_type": "code",
   "execution_count": 6,
   "metadata": {},
   "outputs": [],
   "source": [
    "#Make some plots that shows the distribution in l,b, \n",
    "#using histograms of different colors for each source class in CLASS1"
   ]
  },
  {
   "cell_type": "markdown",
   "metadata": {},
   "source": [
    "### Open and explore the 1RX catalog\n",
    "\n",
    "You can find the 1RX catalog in the csv file *1RX_voges1999.csv* in the data directory. Please note that in this file you will have to use \"read_csv\" function of pandas, but you will have to remember 2 notions:\n",
    "\n",
    "* you need to skip a certain amount of rows (using the parameter skiprows in read_csv)\n",
    "* data are separated not by commas, but by semicolumns, so you will have to change the delimiter (\"sep\" parameter in \"read_csv\")\n",
    "\n",
    "For more details, please refer to the [help of this function](https://pandas.pydata.org/pandas-docs/stable/reference/api/pandas.read_csv.html)\n",
    "\n",
    "Open it using astropy and have a look at it (what are the columns, etc)"
   ]
  },
  {
   "cell_type": "code",
   "execution_count": 18,
   "metadata": {},
   "outputs": [],
   "source": [
    "#open with pandas function read_csv\n",
    "# you will have to skip the first row, in order to explore the file, you\n",
    "# can open a terminal and use the bash command \"less\" to see how many rows you have to skip"
   ]
  },
  {
   "cell_type": "code",
   "execution_count": 19,
   "metadata": {},
   "outputs": [],
   "source": [
    "#how many colums are there? can you plot the distribution in l and b? \n",
    "#The coordinates here are RA,DEC, so you should use astropy to convert to Galactic ones (l,b)"
   ]
  },
  {
   "cell_type": "markdown",
   "metadata": {},
   "source": [
    "### Find the spatial correlations\n",
    "\n",
    "Now you can go through the 4FGL sources and check which one have spatial correlation with 1RX sources. You can use the column Conf 95 SemiMajor as uncertainty in the position of the gamma-ray source, and build some statistics"
   ]
  },
  {
   "cell_type": "code",
   "execution_count": 20,
   "metadata": {},
   "outputs": [],
   "source": [
    "#for instance, how many 4FGL sources are spatially correlated with 1RX?"
   ]
  },
  {
   "cell_type": "code",
   "execution_count": 21,
   "metadata": {},
   "outputs": [],
   "source": [
    "# For each CLASS1 source class in 4FGL, , find how many of these gamma-ray sources are spatially associated \n",
    "# with 1RX. "
   ]
  },
  {
   "cell_type": "code",
   "execution_count": 22,
   "metadata": {},
   "outputs": [],
   "source": [
    "# Now, select 3 source classes you prefer. Dor each of these source classes, you can plot a distribution of l and b "
   ]
  },
  {
   "cell_type": "code",
   "execution_count": 23,
   "metadata": {},
   "outputs": [],
   "source": [
    "# For each of these source class you have selected, how is the distribution of the angular distances between \n",
    "# the gamma-ray and X-ray source?"
   ]
  },
  {
   "cell_type": "markdown",
   "metadata": {},
   "source": [
    "### Final steps\n",
    "Congratulations! Don't forget to save to Github (using git commit + git push)"
   ]
  }
 ],
 "metadata": {
  "colab": {
   "name": "exercise1-read-csv.ipynb",
   "provenance": []
  },
  "kernelspec": {
   "display_name": "Python 3 (ipykernel)",
   "language": "python",
   "name": "python3"
  },
  "language_info": {
   "codemirror_mode": {
    "name": "ipython",
    "version": 3
   },
   "file_extension": ".py",
   "mimetype": "text/x-python",
   "name": "python",
   "nbconvert_exporter": "python",
   "pygments_lexer": "ipython3",
   "version": "3.10.8"
  }
 },
 "nbformat": 4,
 "nbformat_minor": 4
}
